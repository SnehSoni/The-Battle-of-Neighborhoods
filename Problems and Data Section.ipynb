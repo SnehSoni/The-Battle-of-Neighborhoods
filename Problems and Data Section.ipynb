{
 "cells": [
  {
   "cell_type": "markdown",
   "metadata": {},
   "source": [
    "# Where to Start Japanese restaurant in Canada?"
   ]
  },
  {
   "cell_type": "markdown",
   "metadata": {},
   "source": [
    " ## Introduction/Business Problem"
   ]
  },
  {
   "cell_type": "markdown",
   "metadata": {},
   "source": [
    "The Project the Japanese restaurant chain  is looking for an expansion in Canada. They have targeted major cities Toronto\", 'Ottawa', 'Montreal', 'Calgary', 'Victoria' in Canada and now they are interested in looking for market analysis  The problem we aim to solve is to analyze the Japanese Restaurants locations in the major Canadian cities and find the best place for investment."
   ]
  },
  {
   "cell_type": "markdown",
   "metadata": {},
   "source": [
    "## Data section"
   ]
  },
  {
   "cell_type": "markdown",
   "metadata": {},
   "source": [
    "I will use the FourSquare API to collect data about locations of Japanese Restaurants in 5 major Canadian cities which are: Toronto\", 'Ottawa', 'Montreal', 'Calgary', 'Victoria'. These are one of the most populated Canadian cities, where this analysis will help to get clear insight of perfect business opportunity. "
   ]
  },
  {
   "cell_type": "code",
   "execution_count": null,
   "metadata": {},
   "outputs": [],
   "source": []
  }
 ],
 "metadata": {
  "kernelspec": {
   "display_name": "Python",
   "language": "python",
   "name": "conda-env-python-py"
  },
  "language_info": {
   "codemirror_mode": {
    "name": "ipython",
    "version": 3
   },
   "file_extension": ".py",
   "mimetype": "text/x-python",
   "name": "python",
   "nbconvert_exporter": "python",
   "pygments_lexer": "ipython3",
   "version": "3.6.10"
  }
 },
 "nbformat": 4,
 "nbformat_minor": 4
}
